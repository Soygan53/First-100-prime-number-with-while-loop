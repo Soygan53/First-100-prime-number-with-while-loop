{
  "nbformat": 4,
  "nbformat_minor": 0,
  "metadata": {
    "colab": {
      "provenance": []
    },
    "kernelspec": {
      "name": "python3",
      "display_name": "Python 3"
    },
    "language_info": {
      "name": "python"
    }
  },
  "cells": [
    {
      "cell_type": "code",
      "execution_count": 3,
      "metadata": {
        "colab": {
          "base_uri": "https://localhost:8080/"
        },
        "id": "5tev8MGGbtZu",
        "outputId": "8d5cd230-a82b-417c-99d2-0c56b393f097"
      },
      "outputs": [
        {
          "output_type": "stream",
          "name": "stdout",
          "text": [
            "2\n",
            "3\n",
            "5\n",
            "7\n",
            "11\n",
            "13\n",
            "17\n",
            "19\n",
            "23\n",
            "29\n",
            "31\n",
            "37\n",
            "41\n",
            "43\n",
            "47\n",
            "53\n",
            "59\n",
            "61\n",
            "67\n",
            "71\n",
            "73\n",
            "79\n",
            "83\n",
            "89\n",
            "97\n"
          ]
        }
      ],
      "source": [
        "i=1                         #our variable that we use to print all prime numbers up to 100\n",
        "print('2')                  #before we start, We have to print '2' because even numbers will not be included\n",
        "while(i<=98):               #while loop with condition. It is equal to for(1,98,2) loop\n",
        "  i=i+2                     #we are not including even numbers\n",
        "  if i > 1:  \n",
        "    for x in range(2,i):  \n",
        "      if (i % x) == 0:      #if x can divide i do nothing\n",
        "        break  \n",
        "    else:  \n",
        "      print(i)              #if x cannot divide \"i\" than \"i\" is prime number and print it."
      ]
    }
  ]
}